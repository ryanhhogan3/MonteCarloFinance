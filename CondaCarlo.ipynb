{
 "cells": [
  {
   "cell_type": "code",
   "execution_count": 2,
   "metadata": {},
   "outputs": [
    {
     "ename": "ModuleNotFoundError",
     "evalue": "No module named 'pandas_datareader'",
     "output_type": "error",
     "traceback": [
      "\u001b[1;31m---------------------------------------------------------------------------\u001b[0m",
      "\u001b[1;31mModuleNotFoundError\u001b[0m                       Traceback (most recent call last)",
      "\u001b[1;32m<ipython-input-2-4d204f89443a>\u001b[0m in \u001b[0;36m<module>\u001b[1;34m\u001b[0m\n\u001b[0;32m      1\u001b[0m \u001b[1;32mimport\u001b[0m \u001b[0mnumpy\u001b[0m \u001b[1;32mas\u001b[0m \u001b[0mnp\u001b[0m\u001b[1;33m\u001b[0m\u001b[1;33m\u001b[0m\u001b[0m\n\u001b[0;32m      2\u001b[0m \u001b[1;32mimport\u001b[0m \u001b[0mpandas\u001b[0m \u001b[1;32mas\u001b[0m \u001b[0mpd\u001b[0m\u001b[1;33m\u001b[0m\u001b[1;33m\u001b[0m\u001b[0m\n\u001b[1;32m----> 3\u001b[1;33m \u001b[1;32mfrom\u001b[0m \u001b[0mpandas_datareader\u001b[0m \u001b[1;32mimport\u001b[0m \u001b[0mdata\u001b[0m \u001b[1;32mas\u001b[0m \u001b[0mwb\u001b[0m\u001b[1;33m\u001b[0m\u001b[1;33m\u001b[0m\u001b[0m\n\u001b[0m\u001b[0;32m      4\u001b[0m \u001b[1;32mimport\u001b[0m \u001b[0mmatplotlib\u001b[0m\u001b[1;33m.\u001b[0m\u001b[0mpyplot\u001b[0m \u001b[1;32mas\u001b[0m \u001b[0mplt\u001b[0m\u001b[1;33m\u001b[0m\u001b[1;33m\u001b[0m\u001b[0m\n\u001b[0;32m      5\u001b[0m \u001b[1;32mfrom\u001b[0m \u001b[0mscipy\u001b[0m\u001b[1;33m.\u001b[0m\u001b[0mstats\u001b[0m \u001b[1;32mimport\u001b[0m \u001b[0mnorm\u001b[0m\u001b[1;33m\u001b[0m\u001b[1;33m\u001b[0m\u001b[0m\n",
      "\u001b[1;31mModuleNotFoundError\u001b[0m: No module named 'pandas_datareader'"
     ]
    }
   ],
   "source": [
    "import numpy as np\n",
    "import pandas as pd\n",
    "from pandas_datareader import data as wb\n",
    "import matplotlib.pyplot as plt\n",
    "from scipy.stats import norm\n",
    "import math"
   ]
  },
  {
   "cell_type": "code",
   "execution_count": 4,
   "metadata": {},
   "outputs": [],
   "source": [
    "#### Very Basic Monte Carlo Simulation\n",
    "\n",
    "\n",
    "# Get our stocks\n",
    "def get_simulation(ticker, name):\n",
    "    \n",
    "    # Handle the ticker call API\n",
    "    AdjCloseData = pd.DataFrame()\n",
    "    AdjCloseData[ticker] = wb.DataReader(ticker, data_source='yahoo', start='2010-01-01')['Adj Close']\n",
    "    \n",
    "    # Create our Monte Carlo Simulation\n",
    "    log_returns = np.log(1+ AdjCloseData.pct_change())\n",
    "    \n",
    "    u = log_returns.mean()\n",
    "    \n",
    "    var = log_returns.var()\n",
    "    \n",
    "    drift = u - (0.5 * var) \n",
    "    stdev = log_returns.std()\n",
    "    \n",
    "    time = 365\n",
    "    loops = 10000\n",
    "    \n",
    "    daily_returns = np.exp(drift.values + stdev.values * norm.ppf(np.random.rand(time, loops)))\n",
    "    \n",
    "    longRecentClose = AdjCloseData.iloc[-1]\n",
    "    RecentClose = round(longRecentClose[0],2)\n",
    "    \n",
    "    price_list = np.zeros_like(daily_returns)\n",
    "    price_list[0] = RecentClose\n",
    "    \n",
    "    for t in range(1, time):\n",
    "        price_list[t] = price_list[t - 1] * daily_returns[t]\n",
    "        \n",
    "    # Create our averages for our normal distribution\n",
    "    endsim_prices = price_list[-1]\n",
    "    movingavg = [np.mean(price_list)]\n",
    "    endmean = endsim_prices.mean()\n",
    "    endsigma = endsim_prices.std()\n",
    "    stdevs1 = [(endmean + endsigma), (endmean - endsigma)]\n",
    "    stdevs2 = [(endmean + (endsigma*2)), (endmean - (endsigma*2))]\n",
    "    \n",
    "    longavgreturn = ((endmean - RecentClose) / RecentClose)\n",
    "    avgreturn = round(longavgreturn, 4) * 100\n",
    "    \n",
    "    # Print out our statistics\n",
    "    print()\n",
    "    print('The average price of {} per share over {} loops is: {}'.format(name, loops, round(endmean, 2)))\n",
    "    print('Based on {}s most recent price of {} this represents an average return of {}% over {} days'.format(name, RecentClose, round(avgreturn,2), time))\n",
    "    print('The algorithm is 68% confident the price will be between {} and {}.'.format(round(stdevs1[1],2), round(stdevs1[0],2)))\n",
    "    print('The algorithm is 95% confident the price will be between {} and {}.'.format(round(stdevs2[1],2), round(stdevs2[0],2)))\n",
    "    print()\n",
    "\n",
    "    \n",
    "    # Our histogram of ending prices after simulation\n",
    "    plt.figure(figsize=(12,10))\n",
    "    plt.xlabel('{} Stock Price'.format(name))\n",
    "    plt.ylabel('Probability Density')\n",
    "    plt.hist(endsim_prices, 50, density=True, color='c', edgecolor='k')\n",
    "    # Our average of the ending prices\n",
    "    plt.axvline(endmean, color='r', linestyle='dashed', linewidth=2, label='Avg. Price {}'.format(round(endmean, 2)))\n",
    "    plt.axvline(stdevs1[0], color='r', linestyle='dashed', linewidth=2, label='One STDEV: {}'.format(round(stdevs1[0],2)))\n",
    "    plt.axvline(stdevs1[1], color='r', linestyle='dashed', linewidth=2, label='One STDEV: {}'.format(round(stdevs1[1],2)))\n",
    "    plt.title('Distribution of End Prices of {}'.format(name))\n",
    "    plt.legend()\n",
    "    \n",
    "    \n",
    "    \n",
    "    # Monte Carlo Simulation\n",
    "    plt.figure(figsize=(12,10))\n",
    "    plt.title('Monte Carlo 1 Year '+ name)\n",
    "    plt.ylabel(\"price {$}\")\n",
    "    plt.xlabel('Time {Days}')\n",
    "    # Plot our price list\n",
    "    plt.plot(price_list)\n",
    "    # Create our average line\n",
    "    \n",
    "    \n",
    "    plt.show()"
   ]
  },
  {
   "cell_type": "code",
   "execution_count": 5,
   "metadata": {},
   "outputs": [
    {
     "ename": "NameError",
     "evalue": "name 'wb' is not defined",
     "output_type": "error",
     "traceback": [
      "\u001b[1;31m---------------------------------------------------------------------------\u001b[0m",
      "\u001b[1;31mNameError\u001b[0m                                 Traceback (most recent call last)",
      "\u001b[1;32m<ipython-input-5-a089fd9c8fd8>\u001b[0m in \u001b[0;36m<module>\u001b[1;34m\u001b[0m\n\u001b[1;32m----> 1\u001b[1;33m \u001b[0mget_simulation\u001b[0m\u001b[1;33m(\u001b[0m\u001b[1;34m'FRO'\u001b[0m\u001b[1;33m,\u001b[0m \u001b[1;34m'CytoDyn'\u001b[0m\u001b[1;33m)\u001b[0m\u001b[1;33m\u001b[0m\u001b[1;33m\u001b[0m\u001b[0m\n\u001b[0m",
      "\u001b[1;32m<ipython-input-4-8e332ef8e44d>\u001b[0m in \u001b[0;36mget_simulation\u001b[1;34m(ticker, name)\u001b[0m\n\u001b[0;32m      7\u001b[0m     \u001b[1;31m# Handle the ticker call API\u001b[0m\u001b[1;33m\u001b[0m\u001b[1;33m\u001b[0m\u001b[1;33m\u001b[0m\u001b[0m\n\u001b[0;32m      8\u001b[0m     \u001b[0mAdjCloseData\u001b[0m \u001b[1;33m=\u001b[0m \u001b[0mpd\u001b[0m\u001b[1;33m.\u001b[0m\u001b[0mDataFrame\u001b[0m\u001b[1;33m(\u001b[0m\u001b[1;33m)\u001b[0m\u001b[1;33m\u001b[0m\u001b[1;33m\u001b[0m\u001b[0m\n\u001b[1;32m----> 9\u001b[1;33m     \u001b[0mAdjCloseData\u001b[0m\u001b[1;33m[\u001b[0m\u001b[0mticker\u001b[0m\u001b[1;33m]\u001b[0m \u001b[1;33m=\u001b[0m \u001b[0mwb\u001b[0m\u001b[1;33m.\u001b[0m\u001b[0mDataReader\u001b[0m\u001b[1;33m(\u001b[0m\u001b[0mticker\u001b[0m\u001b[1;33m,\u001b[0m \u001b[0mdata_source\u001b[0m\u001b[1;33m=\u001b[0m\u001b[1;34m'yahoo'\u001b[0m\u001b[1;33m,\u001b[0m \u001b[0mstart\u001b[0m\u001b[1;33m=\u001b[0m\u001b[1;34m'2010-01-01'\u001b[0m\u001b[1;33m)\u001b[0m\u001b[1;33m[\u001b[0m\u001b[1;34m'Adj Close'\u001b[0m\u001b[1;33m]\u001b[0m\u001b[1;33m\u001b[0m\u001b[1;33m\u001b[0m\u001b[0m\n\u001b[0m\u001b[0;32m     10\u001b[0m \u001b[1;33m\u001b[0m\u001b[0m\n\u001b[0;32m     11\u001b[0m     \u001b[1;31m# Create our Monte Carlo Simulation\u001b[0m\u001b[1;33m\u001b[0m\u001b[1;33m\u001b[0m\u001b[1;33m\u001b[0m\u001b[0m\n",
      "\u001b[1;31mNameError\u001b[0m: name 'wb' is not defined"
     ]
    }
   ],
   "source": [
    "get_simulation('FRO', 'CytoDyn')"
   ]
  },
  {
   "cell_type": "code",
   "execution_count": null,
   "metadata": {},
   "outputs": [],
   "source": [
    "# "
   ]
  },
  {
   "cell_type": "code",
   "execution_count": null,
   "metadata": {},
   "outputs": [],
   "source": []
  }
 ],
 "metadata": {
  "kernelspec": {
   "display_name": "Python 3",
   "language": "python",
   "name": "python3"
  },
  "language_info": {
   "codemirror_mode": {
    "name": "ipython",
    "version": 3
   },
   "file_extension": ".py",
   "mimetype": "text/x-python",
   "name": "python",
   "nbconvert_exporter": "python",
   "pygments_lexer": "ipython3",
   "version": "3.8.5"
  }
 },
 "nbformat": 4,
 "nbformat_minor": 5
}
