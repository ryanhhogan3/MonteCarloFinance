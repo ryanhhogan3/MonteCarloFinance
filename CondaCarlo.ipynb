{
 "cells": [
  {
   "cell_type": "code",
   "execution_count": 2,
   "id": "metric-occurrence",
   "metadata": {},
   "outputs": [],
   "source": [
    "import numpy as np\n",
    "import pandas as pd\n",
    "from pandas_datareader import data as wb\n",
    "import matplotlib.pyplot as plt\n",
    "from scipy.stats import norm"
   ]
  },
  {
   "cell_type": "code",
   "execution_count": 15,
   "id": "chemical-spyware",
   "metadata": {},
   "outputs": [],
   "source": [
    "# Get our stocks\n",
    "def get_simulation(ticker, name):\n",
    "    data = pd.DataFrame()\n",
    "    data[ticker] = wb.DataReader(ticker, data_source='yahoo', start='2010-01-01')['Adj Close']\n",
    "    \n",
    "    log_returns = np.log(1+ data.pct_change())\n",
    "    \n",
    "    u = log_returns.mean()\n",
    "    \n",
    "    var = log_returns.var()\n",
    "    \n",
    "    drift = u - (0.5 * var) \n",
    "    stdev = log_returns.std()\n",
    "    \n",
    "    time = 365\n",
    "    loops = 10\n",
    "    \n",
    "    daily_returns = np.exp(drift.values + stdev.values * norm.ppf(np.random.rand(time, loops)))\n",
    "    \n",
    "    S0 = data.iloc[-1]\n",
    "    \n",
    "    price_list = np.zeros_like(daily_returns)\n",
    "    price_list[0] = S0\n",
    "    \n",
    "    for t in range(1, time):\n",
    "        price_list[t] = price_list[time - 1] * daily_returns[t]\n",
    "    \n",
    "    plt.figure(figsize=(10,8))\n",
    "    plt.title('Monte Carlo 1 Year '+ name)\n",
    "    plt.ylabel(\"price {$}\")\n",
    "    plt.xlabel('Time {Days}')\n",
    "    plt.plot(price_list)\n",
    "    plt.show()\n",
    "    "
   ]
  },
  {
   "cell_type": "code",
   "execution_count": 16,
   "id": "institutional-february",
   "metadata": {},
   "outputs": [
    {
     "data": {
      "image/png": "[encoded data removed]",
      "text/plain": [
       "<Figure size 720x576 with 1 Axes>"
      ]
     },
     "metadata": {
      "needs_background": "light"
     },
     "output_type": "display_data"
    }
   ],
   "source": [
    "get_simulation('MSFT', 'MicroSoft')"
   ]
  },
  {
   "cell_type": "code",
   "execution_count": null,
   "id": "about-transcript",
   "metadata": {},
   "outputs": [],
   "source": []
  }
 ],
 "metadata": {
  "kernelspec": {
   "display_name": "Python 3",
   "language": "python",
   "name": "python3"
  },
  "language_info": {
   "codemirror_mode": {
    "name": "ipython",
    "version": 3
   },
   "file_extension": ".py",
   "mimetype": "text/x-python",
   "name": "python",
   "nbconvert_exporter": "python",
   "pygments_lexer": "ipython3",
   "version": "3.9.2"
  }
 },
 "nbformat": 4,
 "nbformat_minor": 5
}
