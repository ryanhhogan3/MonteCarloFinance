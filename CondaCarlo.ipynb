{
 "cells": [
  {
   "cell_type": "code",
   "execution_count": 1,
   "id": "charitable-calcium",
   "metadata": {},
   "outputs": [],
   "source": [
    "import numpy as np\n",
    "import pandas as pd\n",
    "from pandas_datareader import data as wb\n",
    "import matplotlib.pyplot as plt\n",
    "from scipy.stats import norm\n",
    "import math"
   ]
  },
  {
   "cell_type": "code",
   "execution_count": 2,
   "id": "informational-details",
   "metadata": {},
   "outputs": [],
   "source": [
    "#### Very Basic Monte Carlo Simulation\n",
    "\n",
    "\n",
    "# Get our stocks\n",
    "def get_simulation(ticker, name):\n",
    "    \n",
    "    # Handle the ticker call API\n",
    "    AdjCloseData = pd.DataFrame()\n",
    "    AdjCloseData[ticker] = wb.DataReader(ticker, data_source='yahoo', start='2010-01-01')['Adj Close']\n",
    "    \n",
    "    # Create our Monte Carlo Simulation\n",
    "    log_returns = np.log(1+ AdjCloseData.pct_change())\n",
    "    \n",
    "    u = log_returns.mean()\n",
    "    \n",
    "    var = log_returns.var()\n",
    "    \n",
    "    drift = u - (0.5 * var) \n",
    "    stdev = log_returns.std()\n",
    "    \n",
    "    time = 365\n",
    "    loops = 10000\n",
    "    \n",
    "    daily_returns = np.exp(drift.values + stdev.values * norm.ppf(np.random.rand(time, loops)))\n",
    "    \n",
    "    longRecentClose = AdjCloseData.iloc[-1]\n",
    "    RecentClose = round(longRecentClose[0],2)\n",
    "    \n",
    "    price_list = np.zeros_like(daily_returns)\n",
    "    price_list[0] = RecentClose\n",
    "    \n",
    "    for t in range(1, time):\n",
    "        price_list[t] = price_list[t - 1] * daily_returns[t]\n",
    "        \n",
    "    # Create our averages for our normal distribution\n",
    "    endsim_prices = price_list[-1]\n",
    "    movingavg = [np.mean(price_list)]\n",
    "    endmean = endsim_prices.mean()\n",
    "    endsigma = endsim_prices.std()\n",
    "    stdevs1 = [(endmean + endsigma), (endmean - endsigma)]\n",
    "    stdevs2 = [(endmean + (endsigma*2)), (endmean - (endsigma*2))]\n",
    "    \n",
    "    longavgreturn = ((endmean - RecentClose) / RecentClose)\n",
    "    avgreturn = round(longavgreturn, 4) * 100\n",
    "    \n",
    "    # Print out our statistics\n",
    "    print()\n",
    "    print('The average price of {} per share over {} loops is: {}'.format(name, loops, round(endmean, 2)))\n",
    "    print('Based on {}s most recent price of {} this represents an average return of {}% over {} days'.format(name, RecentClose, round(avgreturn,2), time))\n",
    "    print('The algorithm is 68% confident the price will be between {} and {}.'.format(round(stdevs1[1],2), round(stdevs1[0],2)))\n",
    "    print('The algorithm is 95% confident the price will be between {} and {}.'.format(round(stdevs2[1],2), round(stdevs2[0],2)))\n",
    "    print()\n",
    "\n",
    "    \n",
    "    # Our histogram of ending prices after simulation\n",
    "    plt.figure(figsize=(12,10))\n",
    "    plt.xlabel('{} Stock Price'.format(name))\n",
    "    plt.ylabel('Probability Density')\n",
    "    plt.hist(endsim_prices, 50, density=True, color='c', edgecolor='k')\n",
    "    # Our average of the ending prices\n",
    "    plt.axvline(endmean, color='r', linestyle='dashed', linewidth=2, label='Avg. Price {}'.format(round(endmean, 2)))\n",
    "    plt.axvline(stdevs1[0], color='r', linestyle='dashed', linewidth=2, label='One STDEV: {}'.format(round(stdevs1[0],2)))\n",
    "    plt.axvline(stdevs1[1], color='r', linestyle='dashed', linewidth=2, label='One STDEV: {}'.format(round(stdevs1[1],2)))\n",
    "    plt.title('Distribution of End Prices of {}'.format(name))\n",
    "    plt.legend()\n",
    "    \n",
    "    \n",
    "    \n",
    "    # Monte Carlo Simulation\n",
    "    plt.figure(figsize=(12,10))\n",
    "    plt.title('Monte Carlo 1 Year '+ name)\n",
    "    plt.ylabel(\"price {$}\")\n",
    "    plt.xlabel('Time {Days}')\n",
    "    # Plot our price list\n",
    "    plt.plot(price_list)\n",
    "    # Create our average line\n",
    "    \n",
    "    \n",
    "    plt.show()"
   ]
  },
  {
   "cell_type": "code",
   "execution_count": null,
   "id": "caring-hearing",
   "metadata": {},
   "outputs": [],
   "source": [
    "get_simulation('BTC-USD', 'Bitcoin')"
   ]
  },
  {
   "cell_type": "code",
   "execution_count": null,
   "id": "dental-converter",
   "metadata": {},
   "outputs": [],
   "source": [
    "# "
   ]
  },
  {
   "cell_type": "code",
   "execution_count": null,
   "id": "comparable-plaza",
   "metadata": {},
   "outputs": [],
   "source": []
  }
 ],
 "metadata": {
  "kernelspec": {
   "display_name": "Python 3",
   "language": "python",
   "name": "python3"
  },
  "language_info": {
   "codemirror_mode": {
    "name": "ipython",
    "version": 3
   },
   "file_extension": ".py",
   "mimetype": "text/x-python",
   "name": "python",
   "nbconvert_exporter": "python",
   "pygments_lexer": "ipython3",
   "version": "3.9.2"
  }
 },
 "nbformat": 4,
 "nbformat_minor": 5
}
